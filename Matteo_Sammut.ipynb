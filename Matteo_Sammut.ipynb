{
 "cells": [
  {
   "cell_type": "markdown",
   "metadata": {},
   "source": [
    "Task 1\n",
    "If you were asked to build a model for predicting arousal and valence, using the provided audio\n",
    "features as explanatory variables:"
   ]
  },
  {
   "cell_type": "markdown",
   "metadata": {},
   "source": [
    "1. Which performance metrics would you use to evaluate your model’s predictions?"
   ]
  },
  {
   "cell_type": "markdown",
   "metadata": {},
   "source": [
    "2. Does the selection of the performance metric depend on the type of the response\n",
    "variables? Explain your reasoning."
   ]
  },
  {
   "cell_type": "markdown",
   "metadata": {},
   "source": [
    "3. Which validation protocol (e.g., holdout set, k-fold cross-validation, etc.) would you\n",
    "use given that the objective is to build a predictive model able to generalise across\n",
    "participants (i.e., make accurate predictions for unseen participants)? Justify your\n",
    "choice."
   ]
  },
  {
   "cell_type": "markdown",
   "metadata": {},
   "source": [
    "Task 2 Using the provided audio features, build predictive models for arousal and valence:"
   ]
  },
  {
   "cell_type": "markdown",
   "metadata": {},
   "source": [
    "1. Develop a predictive model for each response variable (arousal and valence) using\n",
    "some or all of the provided audio features as explanatory variables"
   ]
  }
 ],
 "metadata": {
  "language_info": {
   "name": "python"
  }
 },
 "nbformat": 4,
 "nbformat_minor": 2
}
